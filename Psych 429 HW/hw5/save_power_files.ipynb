{
 "cells": [
  {
   "cell_type": "code",
   "execution_count": 1,
   "metadata": {},
   "outputs": [
    {
     "name": "stdout",
     "output_type": "stream",
     "text": [
      "Could not import MorletWaveletFilterCppLegacy (single-core C++ version of MorletWaveletFilter): cannot import name 'MorletWaveletTransform'\n",
      "You can still use MorletWaveletFilter\n"
     ]
    }
   ],
   "source": [
    "import numpy as np\n",
    "from ptsa.data.readers import EEGReader,TalReader\n",
    "from ptsa.data.filters import MorletWaveletFilterCpp,MonopolarToBipolarMapper, MorletWaveletFilter\n",
    "from sklearn.linear_model import LogisticRegression\n",
    "from sklearn.model_selection import LeaveOneGroupOut\n",
    "from ptsa.data.TimeSeriesX import TimeSeriesX\n",
    "import pandas as pd\n",
    "from scipy.stats import zscore,ttest_rel\n",
    "%matplotlib inline \n",
    "from matplotlib import pyplot as plt\n",
    "from sklearn.metrics import roc_auc_score,roc_curve\n",
    "from cluster_helper import cluster\n",
    "from sklearn.externals import joblib\n",
    "import cluster_helper.cluster\n",
    "import xarray"
   ]
  },
  {
   "cell_type": "code",
   "execution_count": 2,
   "metadata": {
    "collapsed": true
   },
   "outputs": [],
   "source": [
    "def processData(info):\n",
    "    from ptsa.data.readers import EEGReader\n",
    "    from ptsa.data.filters import MorletWaveletFilterCpp,MonopolarToBipolarMapper\n",
    "    import numpy as np\n",
    "    subject_events = info[0]\n",
    "    monopolar_channels = info[1]\n",
    "    bi_pairs = info[2]\n",
    "    fs = np.array([5.0, 7.0, 11.0,18.0, 27.0, 42.0,80.0])\n",
    "    wid = 6\n",
    "    mono_eeg = EEGReader(\n",
    "        events=subject_events ,\n",
    "        channels=monopolar_channels, start_time=0.0, end_time=1.6,buffer_time = 1.0).read()\n",
    "    bi_eeg = MonopolarToBipolarMapper(time_series = mono_eeg, bipolar_pairs = bi_pairs).filter().filtered(\n",
    "        freq_range=[58.,62.], filt_type=\"stop\")\n",
    "    mwf = MorletWaveletFilterCpp(time_series=bi_eeg,\n",
    "                             freqs=fs,\n",
    "                             output='power',\n",
    "                             frequency_dim_pos=0,\n",
    "                             width = wid,\n",
    "                             verbose=True).filter()[0].remove_buffer(1)\n",
    "    return mwf.mean('time')"
   ]
  },
  {
   "cell_type": "code",
   "execution_count": 3,
   "metadata": {},
   "outputs": [
    {
     "name": "stdout",
     "output_type": "stream",
     "text": [
      "4 Engines running\n",
      "Sending a shutdown signal to the controller and engines.\n",
      "4 Engines running\n",
      "Sending a shutdown signal to the controller and engines.\n",
      "4 Engines running\n",
      "Sending a shutdown signal to the controller and engines.\n",
      "4 Engines running\n",
      "Sending a shutdown signal to the controller and engines.\n",
      "4 Engines running\n",
      "Sending a shutdown signal to the controller and engines.\n",
      "4 Engines running\n",
      "Sending a shutdown signal to the controller and engines.\n",
      "4 Engines running\n",
      "Sending a shutdown signal to the controller and engines.\n",
      "4 Engines running\n",
      "Sending a shutdown signal to the controller and engines.\n",
      "4 Engines running\n",
      "Sending a shutdown signal to the controller and engines.\n",
      "4 Engines running\n",
      "Sending a shutdown signal to the controller and engines.\n"
     ]
    }
   ],
   "source": [
    "ramFR1_events = np.load('/data/exp_events/ramFR1_events.npy')\n",
    "\n",
    "subs=  ['R1051J', 'R1060M', 'R1061T', 'R1065J', 'R1137E', 'R1154D', 'R1161E','R1189M', 'R1195E', 'R1236J']\n",
    "for subjectID in subs:\n",
    "\n",
    "    tal_path = '/data/tal/'+subjectID+'_talLocs_database_bipol.mat'\n",
    "    tal_reader = TalReader(filename=tal_path, struct_type = 'bi')\n",
    "    subject_events = ramFR1_events[(ramFR1_events['subject']==subjectID) \n",
    "                                  & (ramFR1_events['type']=='WORD')].view(np.recarray)\n",
    "\n",
    "    seshs = np.unique(subject_events['session'])\n",
    "    vaultIdx = np.max(seshs)\n",
    "    monopolar_channels = tal_reader.get_monopolar_channels()\n",
    "    bi_pairs = tal_reader.get_bipolar_pairs()\n",
    "    \n",
    "\n",
    "    iterable = []\n",
    "    \n",
    "    for s in seshs:\n",
    "        events = subject_events[subject_events['session']==s]\n",
    "        chans = monopolar_channels\n",
    "        pairs = bi_pairs\n",
    "        iterable.append([events,chans,pairs])\n",
    "\n",
    "    with cluster_helper.cluster.cluster_view(\n",
    "            scheduler=\"sge\", queue=\"all.q\", num_jobs=4,\n",
    "            extra_params= {'resources': 'h_vmem=20G'}, cores_per_job=1) as view:\n",
    "            subResult = view.map(processData, iterable)\n",
    "\n",
    "\n",
    "    data = xarray.concat(subResult, 'events')\n",
    "    tmpevs = subResult[0].events.values\n",
    "    for i in range(1, len(subResult)):\n",
    "        tmpevs = np.r_[tmpevs, subResult[i].events.values]\n",
    "    data.events.values = tmpevs.view(np.recarray)\n",
    "\n",
    "    # features = np.log10(data.stack(features=('frequency','bipolar_pairs')))\n",
    "    # features\n",
    "\n",
    "    data.to_hdf('/data/home/jonlevi/ML_Project/iEEG_Power_Files/%s.hdf5' % (subjectID))\n",
    "    \n",
    "    "
   ]
  },
  {
   "cell_type": "code",
   "execution_count": null,
   "metadata": {
    "collapsed": true
   },
   "outputs": [],
   "source": []
  }
 ],
 "metadata": {
  "kernelspec": {
   "display_name": "Python 3",
   "language": "python",
   "name": "python3"
  },
  "language_info": {
   "codemirror_mode": {
    "name": "ipython",
    "version": 3
   },
   "file_extension": ".py",
   "mimetype": "text/x-python",
   "name": "python",
   "nbconvert_exporter": "python",
   "pygments_lexer": "ipython3",
   "version": "3.6.1"
  }
 },
 "nbformat": 4,
 "nbformat_minor": 2
}
