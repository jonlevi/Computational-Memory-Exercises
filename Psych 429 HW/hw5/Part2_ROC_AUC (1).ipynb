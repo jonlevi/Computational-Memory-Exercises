{
 "cells": [
  {
   "cell_type": "code",
   "execution_count": 23,
   "metadata": {
    "collapsed": true
   },
   "outputs": [],
   "source": [
    "import numpy as np\n",
    "from ptsa.data.readers import EEGReader,TalReader\n",
    "from ptsa.data.filters import MorletWaveletFilterCpp,MonopolarToBipolarMapper, MorletWaveletFilter\n",
    "from sklearn.linear_model import LogisticRegression\n",
    "from sklearn.model_selection import LeaveOneGroupOut\n",
    "from ptsa.data.TimeSeriesX import TimeSeriesX\n",
    "import pandas as pd\n",
    "from scipy.stats import zscore,ttest_rel\n",
    "%matplotlib inline \n",
    "from matplotlib import pyplot as plt\n",
    "from sklearn.metrics import roc_auc_score,roc_curve\n",
    "from cluster_helper import cluster\n",
    "from sklearn.externals import joblib\n",
    "import xarray\n",
    "from scipy import interp\n",
    "import pprint\n"
   ]
  },
  {
   "cell_type": "code",
   "execution_count": 24,
   "metadata": {
    "collapsed": true
   },
   "outputs": [],
   "source": [
    "def get_vault(remaining, vault):\n",
    "    remainingZ = (remaining - remaining.mean('events'))/remaining.std('events')\n",
    "    vaultZ = (vault - vault.mean('events'))/vault.std('events')\n",
    "    #logistic regression\n",
    "    lr = LogisticRegression(penalty='l2', C=1.0)\n",
    "    lrFit = lr.fit(remainingZ, remainingZ.events.values['recalled'])\n",
    "    vault_predictions = lrFit.predict_proba(vaultZ)[:, 1]\n",
    "    vault_actuals = vaultZ.events.values['recalled']\n",
    "    return [vault_predictions, vault_actuals]"
   ]
  },
  {
   "cell_type": "code",
   "execution_count": 25,
   "metadata": {
    "collapsed": true
   },
   "outputs": [],
   "source": [
    "#takes in number of session to leave out\n",
    "def loso(numS, features):\n",
    "    \n",
    "    #regular = sessions not left out\n",
    "    regular = features.sel(events=features.events.values['session'] != numS)\n",
    "    regularZ = (regular-regular.mean('events'))/regular.std('events')\n",
    "    \n",
    "    #session left out\n",
    "    left_out = features.sel(events=features.events.values['session']==numS)\n",
    "    left_outZ = (left_out - left_out.mean('events'))/left_out.std('events')\n",
    "    \n",
    "    \n",
    "    #logistic regression\n",
    "    lr = LogisticRegression(penalty='l2', C=1.0)\n",
    "    lrFit = lr.fit(regularZ, regularZ.events.values['recalled'])\n",
    "    test_probs = lrFit.predict_proba(left_outZ)[:, 1]\n",
    "    actual_labels = left_outZ.events.values['recalled']\n",
    "    return [test_probs, actual_labels]"
   ]
  },
  {
   "cell_type": "code",
   "execution_count": 29,
   "metadata": {
    "collapsed": true
   },
   "outputs": [],
   "source": [
    "def get_probs_actual_loso(feat_array):\n",
    "    \n",
    "    probs = np.empty(len(feat_array))\n",
    "    probs.fill(np.nan)\n",
    "    actual = np.empty(len(feat_array))\n",
    "    actual.fill(np.nan)\n",
    "\n",
    "    for ss in np.unique(feat_array.events.values['session']):\n",
    "        print(str(ss) + \"/\" + str(len(np.unique(feat_array.events.values['session']))))\n",
    "        loso_result = loso(ss,feat_array)\n",
    "        probs[feat_array.events.values['session']==ss] = loso_result[0]\n",
    "        actual[feat_array.events.values['session']==ss] = loso_result[1]\n",
    "    return [probs,actual]\n"
   ]
  },
  {
   "cell_type": "code",
   "execution_count": 27,
   "metadata": {
    "collapsed": true
   },
   "outputs": [],
   "source": [
    "#ROC curve depicts True Positive Rate (on the y-axis) versus the False Positive Rate (on the x-axis)\n",
    "#classifer_ps: array of classifier output probabilities\n",
    "#values: array of values that correspond to their true labels\n",
    "#labels: array of true labels for the above values\n",
    "#posLabel: label for the positive class\n",
    "#returns ROC curve [xs, ys]\n",
    "def getROC(classifier_ps, labels, values, posLabel):\n",
    "    xs = [0] * len(classifier_ps)\n",
    "    ys = xs[:]\n",
    "    \n",
    "    #use each probability as a decision threshold (< is neg, >= is pos)\n",
    "    numPos = sum((labels[i] == posLabel) for i in range(0, len(values)))\n",
    "    numNeg = sum((labels[i] != posLabel) for i in range(0, len(values)))\n",
    "    count = 0\n",
    "    for threshold in classifier_ps:\n",
    "        falsePosCount = sum((values[i] >= threshold and labels[i] != posLabel) for i in range(0, len(values)))\n",
    "        truePosCount = sum((values[i] >= threshold and labels[i] == posLabel) for i in range(0, len(values)))\n",
    "\n",
    "        fpr = (1.0 * falsePosCount) / numNeg\n",
    "        tpr = (1.0 * truePosCount) / numPos\n",
    "        xs[count] = fpr\n",
    "        ys[count] = tpr\n",
    "        count += 1\n",
    "    \n",
    "    return [np.array(xs), np.array(ys)]\n",
    "        \n",
    "\n",
    "def getAUC(rocX, rocY):\n",
    "    return np.trapz(rocY, rocX)\n",
    "\n",
    "def plotROCAvg(title, base_fpr, tprs_lolo, tprs_loso, filename=None): \n",
    "    avg_tprs_lolo = np.mean(tprs_lolo, axis=0)\n",
    "    ste_tprs_lolo = np.std(tprs_lolo,axis=0) / np.sqrt(np.shape(tprs_lolo)[0])\n",
    "    lolo_lower = avg_tprs_lolo - ste_tprs_lolo\n",
    "    lolo_upper = np.minimum(avg_tprs_lolo + ste_tprs_lolo,1)\n",
    "    \n",
    "    \n",
    "    avg_tprs_loso = np.mean(tprs_loso, axis=0)\n",
    "    ste_tprs_loso = np.std(tprs_loso,axis=0) / np.sqrt(np.shape(tprs_loso)[0])\n",
    "    loso_lower = avg_tprs_loso - ste_tprs_loso\n",
    "    loso_upper = np.minimum(avg_tprs_loso + ste_tprs_loso,1)\n",
    "    \n",
    "    fig, ax = plt.subplots(1,1, figsize=(6,6))\n",
    "    plt.title(title)\n",
    "    \n",
    "    all_tprs = {'LOLO': {'tpr': avg_tprs_lolo, 'color': 'blue'}, 'LOSO': {'tpr': avg_tprs_loso, 'color': 'orange'}}\n",
    "    for label in ['LOLO', 'LOSO']:\n",
    "        ax.plot(base_fpr, all_tprs[label]['tpr'], \n",
    "                label='%s; AUC=%.3f' % (label, getAUC(base_fpr, all_tprs[label]['tpr'])),\n",
    "               color=all_tprs[label]['color'])\n",
    "    \n",
    "    \n",
    "    plt.fill_between(base_fpr, lolo_lower, lolo_upper, color= all_tprs['LOLO']['color'], alpha = 0.3)\n",
    "    \n",
    "    plt.fill_between(base_fpr, loso_lower, loso_upper, color= all_tprs['LOSO']['color'], alpha = 0.3)\n",
    "\n",
    "    \n",
    "    ax.legend(loc='best')\n",
    "    ax.plot([0,1], [0, 1], 'k--')\n",
    "    ax.set_xlabel('False Positive Rate')\n",
    "    ax.set_ylabel('True Positive Rate')\n",
    "\n",
    "    if filename:\n",
    "        plt.savefig(\"%s.jpg\" % (filename), bbox_inches='tight')\n",
    "\n",
    "    plt.show()\n",
    "    \n",
    "\n",
    "def plotROC(title, labelParam, labels, ROCXs, ROCYs, filename=None):\n",
    "    fig, ax = plt.subplots(1,1, figsize=(6,6))\n",
    "    plt.title(title)\n",
    "    i = 0\n",
    "    for label in labels:\n",
    "        ax.plot(ROCXs[i], ROCYs[i], label='%s%s%s; AUC=%.3f' % (labelParam if labelParam else '', \n",
    "                                                                '=' if labelParam else '' ,\n",
    "                                                                labels[i], getAUC(ROCXs[i], ROCYs[i])))\n",
    "        i+=1\n",
    "    ax.legend(loc='best', title=labelParam)\n",
    "    ax.plot([0,1], [0, 1], 'k--')\n",
    "    ax.set_xlabel('False Positive Rate')\n",
    "    ax.set_ylabel('True Positive Rate')\n",
    "    #fig.subplots_adjust(0.18,0.16, 0.98, 0.99, 0.1, 0.1)\n",
    "\n",
    "    if filename:\n",
    "        plt.savefig(\"%s.jpg\" % (filename), bbox_inches='tight')\n",
    "\n",
    "    plt.show()"
   ]
  },
  {
   "cell_type": "markdown",
   "metadata": {},
   "source": [
    "# Save from HDF to NP DATA for EEG Subjects"
   ]
  },
  {
   "cell_type": "code",
   "execution_count": null,
   "metadata": {
    "collapsed": true
   },
   "outputs": [],
   "source": [
    "def saveData(subs):\n",
    "    for subjectID in subs[0]:\n",
    "    print(subjectID)\n",
    "    #ADD PATH TO HDF FILE CONTAINING POWER DATA\n",
    "    #data = TimeSeriesX.from_hdf('/data/home/jonlevi/ML_Project/iEEG_Power_Files/%s.hdf5' % (subjectID))\n",
    "    \n",
    "    features = np.log10(data.stack(features=('frequency','channels')))\n",
    "    \n",
    "    lastSession = np.max(np.unique(features.events.values['session']))\n",
    "    vault = features.sel(events=features.events.values['session']==lastSession)\n",
    "    remaining = features.sel(events=features.events.values['session']!=lastSession)\n",
    "    print(\"Getting Regular Sessions Cross-Validation...\")\n",
    "    data_remaining = get_probs_actual_loso(remaining)\n",
    "    print(\"Getting Vault Session Tets...\")\n",
    "    data_vault = get_vault(remaining,vault)\n",
    "    print(\"Saving To Disk...\")\n",
    "    #ADD PATH FOR TARGET TO NP.SAVE\n",
    "    path = ''\n",
    "    np.save(path, [data_remaining, data_vault])"
   ]
  },
  {
   "cell_type": "code",
   "execution_count": 39,
   "metadata": {},
   "outputs": [
    {
     "name": "stdout",
     "output_type": "stream",
     "text": [
      "R\n",
      "Now doing the vault\n",
      "Got the vault\n",
      "1\n",
      "Now doing the vault\n",
      "Got the vault\n",
      "0\n",
      "Now doing the vault\n",
      "Got the vault\n",
      "5\n",
      "Now doing the vault\n",
      "Got the vault\n",
      "1\n",
      "Now doing the vault\n",
      "Got the vault\n",
      "J\n",
      "Now doing the vault\n",
      "Got the vault\n"
     ]
    },
    {
     "data": {
      "image/png": "[encoded data removed]",
      "text/plain": [
       "<matplotlib.figure.Figure at 0x2b216321aba8>"
      ]
     },
     "metadata": {},
     "output_type": "display_data"
    },
    {
     "name": "stdout",
     "output_type": "stream",
     "text": [
      "{'0': '0.521', '1': '0.521', '5': '0.521', 'J': '0.521', 'R': '0.521'}\n",
      "{'0': '0.498', '1': '0.498', '5': '0.498', 'J': '0.498', 'R': '0.498'}\n"
     ]
    }
   ],
   "source": [
    "subs=  ['R1051J', 'R1060M', 'R1065J', 'R1137E', 'R1154D', 'R1161E','R1189M', 'R1195E', 'R1236J']\n",
    "\n",
    "# subs=  ['LTP123', 'LTP133', 'LTP249', 'LTP258', 'LTP330', 'LTP115', 'LTP138', 'LTP265', 'LTP283',\n",
    "# 'LTP93', 'LTP259', 'LTP285', 'LTP304']\n",
    "\n",
    "\n",
    "\n",
    "tprs_lolo = []\n",
    "tprs_loso = []\n",
    "base_fpr = np.linspace(0, 1, 101)\n",
    "\n",
    "aucs_loso = {}\n",
    "aucs_vault = {}\n",
    "\n",
    "\n",
    "for subjectID in subs[0]:\n",
    "    print(subjectID)\n",
    "    #data = TimeSeriesX.from_hdf('/data/home/jonlevi/ML_Project/iEEG_Power_Files/%s.hdf5' % (subjectID))\n",
    "    data = TimeSeriesX.from_hdf('/data/home/jonlevi/ML_Project/LTP123.hdf5')\n",
    "    \n",
    "    features = np.log10(data.stack(features=('frequency','channels')))\n",
    "    \n",
    "    lastSession = np.max(np.unique(features.events.values['session']))\n",
    "    vault = features.sel(events=features.events.values['session']==lastSession)\n",
    "    remaining = features.sel(events=features.events.values['session']!=lastSession)\n",
    "    \n",
    "    data_remaining = get_probs_actual_loso(remaining)\n",
    "    probs_remaining = data_remaining[0]\n",
    "    actual_remaining = data_remaining[1]\n",
    "    \n",
    "    print(\"Now doing the vault\")\n",
    "    data_vault = get_vault(remaining,vault)\n",
    "    probs_vault = data_vault[0]\n",
    "    actual_vault = data_vault[1]\n",
    "    \n",
    "    print(\"Got the vault\")\n",
    "    \n",
    "    fprs,tprs,thresholds = roc_curve(actual_remaining, probs_remaining)\n",
    "    #myROC_LOSO = getROC(thresholds,actual_remaining,probs_remaining,1)\n",
    "#     fprs = myROC_LOSO[0]\n",
    "#     tprs = myROC_LOSO[1]\n",
    "    aucs_loso[subjectID] = format(getAUC(fprs,tprs),'.3f')\n",
    "    tpr_lolo = interp(base_fpr, fprs, tprs)\n",
    "    tpr_lolo[0] = 0.0\n",
    "    tprs_lolo.append(tpr_lolo)\n",
    "    \n",
    "\n",
    "    fprs2,tprs2,thresholds = roc_curve(actual_vault, probs_vault)\n",
    "#     myROC_LOSO = getROC(thresholds,actual_vault,probs_vault,1)\n",
    "#     fprs2 = myROC_LOSO[0]\n",
    "#     tprs2 = myROC_LOSO[1]\n",
    "    aucs_vault[subjectID] = format(getAUC(fprs2,tprs2),'.3f')\n",
    "    tpr_loso = interp(base_fpr, fprs2, tprs2)\n",
    "    tpr_loso[0] = 0.0\n",
    "    tprs_loso.append(tpr_loso)\n",
    "\n",
    "plotROCAvg(\"ROC (Average Across Subjects)\",base_fpr, tprs_lolo, tprs_loso,\n",
    "      None)\n",
    "pp = pprint.PrettyPrinter(indent=4)\n",
    "pp.pprint(aucs_loso)\n",
    "pp.pprint(aucs_vault)"
   ]
  },
  {
   "cell_type": "markdown",
   "metadata": {},
   "source": [
    "# Part 3"
   ]
  },
  {
   "cell_type": "code",
   "execution_count": 34,
   "metadata": {},
   "outputs": [
    {
     "data": {
      "text/plain": [
       "(576,)"
      ]
     },
     "execution_count": 34,
     "metadata": {},
     "output_type": "execute_result"
    }
   ],
   "source": []
  },
  {
   "cell_type": "code",
   "execution_count": 40,
   "metadata": {
    "collapsed": true
   },
   "outputs": [],
   "source": [
    "np.save('/data/home/jonlevi/ML_Project/scalp_data_files/LTP123', [data_remaining, data_vault])"
   ]
  },
  {
   "cell_type": "code",
   "execution_count": null,
   "metadata": {
    "collapsed": true
   },
   "outputs": [],
   "source": []
  }
 ],
 "metadata": {
  "kernelspec": {
   "display_name": "Python 3",
   "language": "python",
   "name": "python3"
  },
  "language_info": {
   "codemirror_mode": {
    "name": "ipython",
    "version": 3
   },
   "file_extension": ".py",
   "mimetype": "text/x-python",
   "name": "python",
   "nbconvert_exporter": "python",
   "pygments_lexer": "ipython3",
   "version": "3.6.1"
  }
 },
 "nbformat": 4,
 "nbformat_minor": 2
}
