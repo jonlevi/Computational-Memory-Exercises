{
 "cells": [
  {
   "cell_type": "markdown",
   "metadata": {},
   "source": [
    "## Imports and Data Loading"
   ]
  },
  {
   "cell_type": "code",
   "execution_count": null,
   "metadata": {},
   "outputs": [],
   "source": [
    "\n",
    "from collections import defaultdict\n",
    "import numpy as np\n",
    "import matplotlib.pyplot as plt\n",
    "import pandas as pd  # optional\n",
    "\n",
    "%matplotlib notebook\n",
    "ltpFR2_events = np.load('/data/exp_events/ltpFR2_events.npy')\n",
    "ltpFR2_df = pd.DataFrame(ltpFR2_events)\n",
    "print('loading done')"
   ]
  },
  {
   "cell_type": "markdown",
   "metadata": {},
   "source": [
    "## Question 1"
   ]
  },
  {
   "cell_type": "code",
   "execution_count": null,
   "metadata": {},
   "outputs": [],
   "source": [
    "ltpFR2_word = ltpFR2_df[(ltpFR2_events['type']=='WORD') & (ltpFR2_events['session']!=24) ]\n",
    "prec_by_serialpos = ltpFR2_df.groupby(by='serialpos')['recalled'].mean()\n",
    "prec_by_serialpos\n",
    "plt.figure()\n",
    "plt.plot(prec_by_serialpos,marker='o')\n",
    "plt.ylabel('Probability of Later Recall')\n",
    "plt.xlabel('Serial Position')\n",
    "plt.title('Mean Serial Position Curve (N=76)')\n",
    "plt.xlim(1,24)\n",
    "plt.savefig('SR_mean')"
   ]
  },
  {
   "cell_type": "markdown",
   "metadata": {},
   "source": [
    "## Question 2"
   ]
  },
  {
   "cell_type": "code",
   "execution_count": null,
   "metadata": {
    "collapsed": true
   },
   "outputs": [],
   "source": [
    "ltpFR2_rec_word = ltpFR2_df[(ltpFR2_events['type']=='REC_WORD')]\n",
    "ltpFR2_word_corr = ltpFR2_rec_word[((ltpFR2_rec_word['intrusion']==0))]\n",
    "\n",
    "TRtoIRT = defaultdict(list)\n",
    "subject_count = len(set(ltpFR2_word_corr.subject))\n",
    "\n",
    "\n",
    "for i, sub in enumerate(set(ltpFR2_word_corr.subject)):\n",
    "    \n",
    "    print(str(i)+\"/\"+str(subject_count))\n",
    "    #loop progress\n",
    "    \n",
    "    for si in set(ltpFR2_word_corr.session):\n",
    "        \n",
    "        if (si==24): continue #take out session 24\n",
    "            \n",
    "        for ti in set(ltpFR2_word_corr.trial):\n",
    "\n",
    "\n",
    "            df = ltpFR2_word_corr[(ltpFR2_word_corr['subject']==sub)\n",
    "                       & (ltpFR2_word_corr['session']==si)\n",
    "                       & (ltpFR2_word_corr['trial']==ti)]\n",
    "            TR = df.shape[0]\n",
    "            IRT = []\n",
    "            for wi in range(1,TR):\n",
    "                row_A = df.iloc[wi]\n",
    "                row_B = df.iloc[wi-1]\n",
    "                IRT.append((row_A['rectime']-row_B['rectime'])/1000)\n",
    "\n",
    "            TRtoIRT[TR].append(IRT)\n",
    "            \n",
    "            \n",
    "\n",
    "plt.figure\n",
    "for key in dd:\n",
    "    if key>24: continue\n",
    "    aa = np.array(dd[key])\n",
    "    avg = np.mean(aa, axis=0)\n",
    "    \n",
    "    plt.plot(avg)\n",
    "\n",
    "\n",
    "plt.title('Output Position vs. Inter Response Time ')\n",
    "plt.ylabel('IRT (s)')\n",
    "plt.xlabel('Index of Output Position Interval')\n",
    "plt.savefig('Q2')"
   ]
  },
  {
   "cell_type": "markdown",
   "metadata": {},
   "source": [
    "## Question 3\n",
    "#### The code for individual subjects is modified with additional query 'type' = subjectname\n",
    "\n"
   ]
  },
  {
   "cell_type": "code",
   "execution_count": null,
   "metadata": {
    "collapsed": true
   },
   "outputs": [],
   "source": [
    "data2 = ltpFR2_df[(ltpFR2_df['type']=='REC_WORD')]\n",
    "\n",
    "lagArray = data2.groupby(by=['subject','session', 'trial'])['serialpos'].diff()\n",
    "#resArray = data2.groupby(by=['subject','session', 'trial'])['rectime'].diff()\n",
    "\n",
    "preArray=data2.groupby(by=['session', 'trial'])['serialpos']\n",
    "\n",
    "\n",
    "#calculate the denonimator for the CRP analysis\n",
    "all_chances=[]\n",
    "def getPossible(group):\n",
    "    recalled = []\n",
    "\n",
    "    for x in group:\n",
    "        if np.isnan(x): continue\n",
    "        low_bound=int(1-x)\n",
    "        up_bound=int(24-x)\n",
    "\n",
    "        chances=list(range(low_bound,0))+list(range(1,up_bound+1))\n",
    "        \n",
    "        for each in recalled: #take out repititions\n",
    "            if each-x in chances:\n",
    "                chances.remove(each-x)\n",
    "        recalled.append(x)\n",
    "        for ch in chances:\n",
    "            all_chances.append(ch)\n",
    "            \n",
    "preArray.apply(getPossible)\n",
    "\n",
    "possibleLags = np.histogram(all_chances,np.arange(-16,16))\n",
    "actualLags=np.histogram(lagArray.dropna(), np.arange(-16,16))\n",
    "\n",
    "plt.gcf().clear()\n",
    "\n",
    "yvals = actualLags[0]/possibleLags[0]\n",
    "\n",
    "plt.plot(np.arange(-15,1),yvals[:16])\n",
    "plt.plot(np.arange(1,15), yvals[17:])\n",
    "\n",
    "plt.title('Lag CRP Curve')\n",
    "plt.xlabel('Lag (Position)')\n",
    "plt.ylabel('Conditional Probability')\n",
    "plt.savefig('Lag CRP - Everyone')"
   ]
  },
  {
   "cell_type": "markdown",
   "metadata": {},
   "source": [
    "## Question 4"
   ]
  },
  {
   "cell_type": "code",
   "execution_count": null,
   "metadata": {},
   "outputs": [],
   "source": [
    "#uncomment the follwing lines to run it just for a certain output position\n",
    "#pos = 4\n",
    "#lagArray = data2.groupby(by=['subject','session', 'trial'])['serialpos'].apply(lambda x: x.iloc[:pos].diff())\n",
    "#responseArray = data2.groupby(by=['subject','session', 'trial'])['rectime'].apply(lambda x: x.iloc[::pos].diff())\n",
    "\n",
    "lagArray = data2.groupby(by=['subject','session', 'trial'])['serialpos'].diff()\n",
    "responseArray = data2.groupby(by=['subject','session', 'trial'])['rectime'].diff()\n",
    "\n",
    "lag = list(lagArray)\n",
    "res = list(responseArray)\n",
    "\n",
    "lagsToSums = {}\n",
    "lagsToCounts = {}\n",
    "j=0\n",
    "for num in lag:\n",
    "    if (np.isnan(num)):\n",
    "        j+=1\n",
    "        continue\n",
    "        \n",
    "    if num not in lagsToSums: \n",
    "        lagsToSums[num] = 0\n",
    "        lagsToCounts[num] = 0\n",
    " \n",
    "    \n",
    "        \n",
    "    if (np.isnan(res[j])):\n",
    "        j+=1\n",
    "        continue\n",
    "        \n",
    "    lagsToSums[num]+=(res[j])\n",
    "    lagsToCounts[num] +=1\n",
    "    j = j+1\n",
    "    \n",
    "\n",
    "xvals = []\n",
    "yvals = []\n",
    "keylist = list(lagsToSums.keys())\n",
    "keylist.sort()\n",
    "for key in keylist:\n",
    "    xvals.append(key)\n",
    "    yvals.append(lagsToSums[key]/lagsToCounts[key]/1000) \n",
    "    #mean=sum/count, and 1000 for msec->sec\n",
    "    \n",
    "    \n",
    "yvals[24] = np.nan #definitionally at 0 lag, and to create empty space on plot for lag=0\n",
    "\n",
    "plt.figure()\n",
    "plt.plot(xvals,yvals)\n",
    "plt.xlim(-15,15)\n",
    "plt.title('Lag CRL')\n",
    "plt.ylabel('IRT(s)')\n",
    "plt.xlabel('Lag in Transition')\n",
    "plt.savefig('CRL')\n",
    "\n"
   ]
  },
  {
   "cell_type": "markdown",
   "metadata": {},
   "source": [
    "## Question 5"
   ]
  },
  {
   "cell_type": "code",
   "execution_count": null,
   "metadata": {},
   "outputs": [],
   "source": [
    "ltpFR2_rec_word = ltpFR2_df[(ltpFR2_events['type']=='REC_WORD')]\n",
    "intrusionData = ltpFR2_rec_word[(ltpFR2_rec_word['trial'] > 9)]\n",
    "\n",
    "intrusionData = ltpFR2_rec_word[(ltpFR2_rec_word['trial'] > 9) &\n",
    "                                (ltpFR2_rec_word['intrusion'] > 0) &\n",
    "                               (ltpFR2_rec_word['intrusion'] < 9)]\n",
    "\n",
    "toPlot = intrusionData.groupby(by='intrusion')['subject'].count()\n",
    "plt.figure()\n",
    "plt.plot(toPlot)\n",
    "plt.show()\n",
    "plt.title('Prior List Intrusions (PLIs)')\n",
    "plt.ylabel('Number of Intrusions')\n",
    "plt.xlabel('Source of Intrusion Word (# of Lists Back)')\n",
    "plt.savefig('PLIs')\n",
    "\n"
   ]
  },
  {
   "cell_type": "code",
   "execution_count": null,
   "metadata": {
    "collapsed": true
   },
   "outputs": [],
   "source": []
  }
 ],
 "metadata": {
  "kernelspec": {
   "display_name": "Python 3",
   "language": "python",
   "name": "python3"
  },
  "language_info": {
   "codemirror_mode": {
    "name": "ipython",
    "version": 3
   },
   "file_extension": ".py",
   "mimetype": "text/x-python",
   "name": "python",
   "nbconvert_exporter": "python",
   "pygments_lexer": "ipython3",
   "version": "3.6.1"
  }
 },
 "nbformat": 4,
 "nbformat_minor": 2
}
